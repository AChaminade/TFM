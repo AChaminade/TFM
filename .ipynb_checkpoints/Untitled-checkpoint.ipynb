{
 "cells": [
  {
   "cell_type": "markdown",
   "metadata": {},
   "source": [
    "Conversión de datos de paro brutos a tasas."
   ]
  },
  {
   "cell_type": "code",
   "execution_count": null,
   "metadata": {},
   "outputs": [],
   "source": [
    "for i in range(len(dfp)):\n",
    "    for j in d:\n",
    "        for k in Ano:\n",
    "            for n in mes:\n",
    "                \n",
    "                if j in dfp[i]['Municipios'].tolist():\n",
    "\n",
    "                    A = n+'_'+k    \n",
    "                    Dp['value'][(Dp.Municipio == j)&(Dp.variable == A)] = round(int(Dp['value'][(Dp.Municipio == j)&(Dp.variable == A)])/int(dfp[i]['Total'][(dfp[i].Municipios == j)&(dfp[i].Periodo == int(k))])*100,2)\n",
    "                    \n",
    "Dp.head()  \n",
    "## Porcentaje sobre el total de la población, no sobre la población activa. Culpa del INE. La tasa de actividad \n",
    "## ocila entre el 50 y el 60 por ciento de la población."
   ]
  },
  {
   "cell_type": "code",
   "execution_count": null,
   "metadata": {},
   "outputs": [],
   "source": [
    "Elim =  ['Íllar', 'Laujar de Andarax','Los Guájares','Íllora','Ítrabo','Jérez del Marquesado',\n",
    "        'Torres de Albanchez']\n",
    "Dp_mapa = Dp\n",
    "for i in Elim:\n",
    "    Dp_mapa = Dp_mapa.drop(Dp_mapa[Dp_mapa['Municipio'] == i].index)\n",
    "    Dp_mapa = Dp_mapa.reset_index(drop = True)\n",
    "Dp_mapa['id'] = Dp_mapa['Municipio'].apply(lambda x: mun_id[x])\n",
    "\n",
    "# Para el mapa se emplearán datos de diciembre, por tanto, se eliminarán del dataframe los datos de los anteriores meses\n",
    "\n",
    "for i in Ano:\n",
    "    for j in range(1,len(mes)):\n",
    "            \n",
    "        A = mes[j]+'_'+i\n",
    "        Dp_mapa = Dp_mapa.drop(Dp_mapa[Dp_mapa['variable'] == A].index)"
   ]
  },
  {
   "cell_type": "code",
   "execution_count": null,
   "metadata": {},
   "outputs": [],
   "source": [
    "# Mapa animado con la evolución de parados por habitante en el periodo 2006-2019\n",
    "\n",
    "fig = px.choropleth_mapbox(Dp_mapa, \n",
    "                    locations = 'id', \n",
    "                    geojson = municipio, \n",
    "                    color = 'value',\n",
    "                    hover_name = 'Municipio',\n",
    "                    animation_frame = 'variable',\n",
    "                    color_continuous_scale = px.colors.diverging.balance,\n",
    "                    color_continuous_midpoint = 0,\n",
    "                    range_color = [0,60],\n",
    "                    mapbox_style = 'carto-positron',\n",
    "                    center = {'lat': 37.471325, 'lon': -4.581459},\n",
    "                    zoom = 6.5, opacity =0.5)\n",
    "fig.write_html('Mapa_Paro.html')"
   ]
  }
 ],
 "metadata": {
  "kernelspec": {
   "display_name": "Python 3",
   "language": "python",
   "name": "python3"
  },
  "language_info": {
   "codemirror_mode": {
    "name": "ipython",
    "version": 3
   },
   "file_extension": ".py",
   "mimetype": "text/x-python",
   "name": "python",
   "nbconvert_exporter": "python",
   "pygments_lexer": "ipython3",
   "version": "3.7.4"
  }
 },
 "nbformat": 4,
 "nbformat_minor": 4
}
