{
 "cells": [
  {
   "cell_type": "markdown",
   "metadata": {},
   "source": [
    "# Andalucía, ¿cambio estructural o caso aislado?"
   ]
  },
  {
   "cell_type": "code",
   "execution_count": 20,
   "metadata": {},
   "outputs": [],
   "source": [
    "import pandas as pd\n",
    "import numpy as np\n",
    "from bs4 import BeautifulSoup\n",
    "import requests\n",
    "import plotly.express as px"
   ]
  },
  {
   "cell_type": "code",
   "execution_count": 21,
   "metadata": {},
   "outputs": [],
   "source": [
    "import plotly.io as pio\n",
    "pio.renderers.default = 'browser'"
   ]
  },
  {
   "cell_type": "code",
   "execution_count": 22,
   "metadata": {},
   "outputs": [],
   "source": [
    "# En esta primera recolección de datos electorales por provincia no se incluyen los datos del año 2000, dado que los datos \n",
    "# correspondientes a tal año son de 2004, de modo que estarían repetidos. Para asegurar que los datos del año 2000 son los \n",
    "# correctos, se recolectarán manualmente del periódico Público.\n",
    "\n",
    "Ano_electoral = ['1982', '1986', '1990', '1994', '1996', '2004', '2008', '2012', '2015', '2018'] \n",
    "Reg = ['almeria', 'cadiz', 'cordoba', 'granada', 'huelva', 'jaen', 'malaga', 'sevilla', 'andalucia']\n",
    "url_0 = 'https://www.datoselecciones.com/andalucia-parlamento-'\n",
    "id_tab_voto = ['tb1_18', 'tb1_17', 'tb1_16', 'tb1_15', 'tb1_14','tb1_13', 'tb1_1', 'tb1_54', 'tb1_233', 'tb1_244'] \n",
    "df = [None]*len(Ano_electoral)*len(Reg)\n",
    "\n",
    "for i in range(len(Ano_electoral)):\n",
    "    url_1 = url_0 + Ano_electoral[i]+'/'\n",
    "    for j in range(len(Reg)):\n",
    "        url = url_1+Reg[j]\n",
    "        \n",
    "        pagina = requests.get(url)\n",
    "        soup = BeautifulSoup(pagina.content, 'html.parser')\n",
    "        \n",
    "        #Aquí se crea un except debido a que en las elecciones de 2004 correspondientes a la circunscripción de cadiz cambia\n",
    "        #el id de la tabla.\n",
    "\n",
    "        try:\n",
    "            \n",
    "            tbl = soup.find('table', {'id': id_tab_voto[i]})\n",
    "            df[9*i+j] = pd.read_html(str(tbl))[0]\n",
    "            \n",
    "        except:\n",
    "            \n",
    "            tbl = soup.find('table', {'id': 'tb1_12'})\n",
    "            df[9*i+j] = pd.read_html(str(tbl))[0]\n",
    "\n",
    "#El vector resultante corresponde a noventa data frames, nueve por año, y así ordenados."
   ]
  },
  {
   "cell_type": "code",
   "execution_count": 23,
   "metadata": {},
   "outputs": [
    {
     "name": "stderr",
     "output_type": "stream",
     "text": [
      "C:\\Users\\adrgo\\Anaconda3\\lib\\site-packages\\ipykernel_launcher.py:5: SettingWithCopyWarning:\n",
      "\n",
      "\n",
      "A value is trying to be set on a copy of a slice from a DataFrame\n",
      "\n",
      "See the caveats in the documentation: https://pandas.pydata.org/pandas-docs/stable/user_guide/indexing.html#returning-a-view-versus-a-copy\n",
      "\n"
     ]
    }
   ],
   "source": [
    "#Es necesario tratar los datos para convertir los porcentajes a tipo int\n",
    "\n",
    "for i in range(len(df)):\n",
    "    for j in range(len(df[i])):\n",
    "        df[i]['%'][j] = float(df[i]['%'][j].replace('%','').replace(',','.'))\n",
    "        \n",
    "#Datos del año 2000\n",
    "\n",
    "df2000 = pd.read_excel('2000.xlsx')\n",
    "df2 = [None]*9\n",
    "\n",
    "for i in range(len(df2)):\n",
    "    df2[i] = df2000.iloc[:, 4*i:(4*i+4)]\n",
    "    df2[i] = df2[i].dropna()\n",
    "    df2[i] = df2[i].set_axis(['Partidos', 'Escaños', 'Votos','%'], axis='columns')\n",
    "    \n",
    "#Insertamos los datos del año 2000 con el resto\n",
    "\n",
    "for i in range(len(df2)):\n",
    "    j = 8-i\n",
    "    df.insert(45, df2[j])\n"
   ]
  },
  {
   "cell_type": "code",
   "execution_count": 24,
   "metadata": {},
   "outputs": [],
   "source": [
    "#Aquí se calculan los porcentajes totales respecto a los bloques.\n",
    "\n",
    "Derecha = ['UCD','AP-PDP-UL', 'AP-PDP-PL','FN','CDS','PRD','PP','RUIZ-MATEOS','PED','FEJONS','MFE','FORO-CDS','FEI','UC','FEA',\n",
    "           'FA','FE de las JONS', 'UN', 'UC-CDS', 'PDEAL', \"C'S\", 'PFyV', 'CDL', 'AES', 'CCD', 'MSR', \"C's\", 'VOX', 'CILUS',\n",
    "           'Cs','CILU-LINARES']\n",
    "Izquierda = ['PSOE-A','PCAPCE','PSA','PST','MUC','UCE','PCOE','MCA','marxista-leninista','CGT','SI','PS','SPA','IU-CA','PA',\n",
    "             'PSPA','PH','LA','PTE-UC','DS','VA','LVE','PCPA','FAL','AR','PA-PAP','NA','N.A.','OS','IULV-CA','UAD','VDPA','NIVA',\n",
    "             'A','PTPRE','IR','PSDA', 'A-IZ','OtraDem','CA','VERDES','CANDA','SAIN','PPCR','UPyD','EQUO','PACMA','HARTOS.org',\n",
    "             'PCPE','ECNP', 'PUM+J','F.C.','PRAO','PHAN','SyR','CAnda','AEV','URAL','IA','AUPAL','RISA','RECORTES CERO','PBG',\n",
    "             'PTJ','LYG','PNdA','NEODEMÓCRATAS','CÁMBIALO','AxSÍ','ADELANTE ANDALUCÍA','EQUO-INICIATIVA','RECORTES CERO-M+J-GV',\n",
    "            'UPYD','P.C.O.E.','ALTER','Respeto','IZAR','SOLUCIONA','ConecAnd','UNIDOS SÍ-Democracia efectiva','PCTE', 'PODEMOS']\n",
    "\n",
    "Porcentaje_Derecha = [None]*len(df)\n",
    "Porcentaje_Izquierda = [None]*len(df)\n",
    "\n",
    "Ano_electoral.insert(5,'2000')\n",
    "\n",
    "for i in range(len(df)):\n",
    "    contador_derecha = 0\n",
    "    contador_izquierda = 0\n",
    "    \n",
    "    for j in range(len(df[i])):\n",
    "        if df[i]['Partidos'][j] in Derecha:\n",
    "            contador_derecha += df[i]['%'][j]\n",
    "            \n",
    "        elif df[i]['Partidos'][j] in Izquierda:\n",
    "            contador_izquierda += df[i]['%'][j]\n",
    "            \n",
    "    Porcentaje_Derecha[i] = contador_derecha\n",
    "    Porcentaje_Izquierda[i] = contador_izquierda\n",
    "    \n",
    "for i in range(len(df)):\n",
    "    Porcentaje_Derecha[i] = round(Porcentaje_Derecha[i],2)\n",
    "    Porcentaje_Izquierda[i] = round(Porcentaje_Izquierda[i],2)"
   ]
  },
  {
   "cell_type": "code",
   "execution_count": 25,
   "metadata": {},
   "outputs": [],
   "source": [
    "#Aquí se repite el anterior proceso para conseguir la participación\n",
    "\n",
    "Ano_electoral = ['1982', '1986', '1990', '1994', '1996', '2004', '2008', '2012', '2015', '2018'] \n",
    "Reg = ['almeria', 'cadiz', 'cordoba', 'granada', 'huelva', 'jaen', 'malaga', 'sevilla', 'andalucia']\n",
    "url_0 = 'https://www.datoselecciones.com/andalucia-parlamento-'\n",
    "id_tab_voto = ['tb0_18', 'tb0_17', 'tb0_16', 'tb0_15', 'tb0_14','tb0_13', 'tb0_1', 'tb0_54', 'tb0_233', 'tb0_244'] \n",
    "df_Part = [None]*len(Ano_electoral)*len(Reg)\n",
    "\n",
    "for i in range(len(Ano_electoral)):\n",
    "    url_1 = url_0 + Ano_electoral[i]+'/'\n",
    "    for j in range(len(Reg)):\n",
    "        url = url_1+Reg[j]\n",
    "        \n",
    "        pagina = requests.get(url)\n",
    "        soup = BeautifulSoup(pagina.content, 'html.parser')\n",
    "        \n",
    "        #Aquí se crea un except debido a que en las elecciones de 2004 correspondientes a la circunscripción de cadiz cambia\n",
    "        #el id de la tabla.\n",
    "\n",
    "        try:\n",
    "            \n",
    "            tbl = soup.find('table', {'id': id_tab_voto[i]})\n",
    "            df_Part[9*i+j] = pd.read_html(str(tbl))[0]\n",
    "            \n",
    "        except:\n",
    "            \n",
    "            tbl = soup.find('table', {'id': 'tb0_12'})\n",
    "            df_Part[9*i+j] = pd.read_html(str(tbl))[0]\n",
    "\n",
    "for i in range(len(df_Part)):\n",
    "    for j in range(len(df_Part[i])):\n",
    "        try:\n",
    "            \n",
    "            df_Part[i][1][j] = int(df_Part[i][1][j].replace('%','').replace('.',''))\n",
    "            \n",
    "        except:\n",
    "            \n",
    "            pass\n",
    "        \n",
    "Vot = [None]*len(df_Part)\n",
    "Abs = [None]*len(df_Part)\n",
    "Part = [None]*len(df_Part)\n",
    "\n",
    "for i in range(len(df_Part)):\n",
    "    Vot[i] = df_Part[i][1][3]\n",
    "    Abs[i] = df_Part[i][1][4]\n",
    "    Part[i] = Vot[i]/(Vot[i]+Abs[i])*100\n",
    "\n",
    "Part =[ round(elem, 2) for elem in Part]\n",
    "\n",
    "Part_2000 = [70.16, 63.85, 75.81, 71.00, 67.22, 77.63, 65.93, 70.39, 69.72]\n",
    "\n",
    "for i in range(len(Part_2000)):\n",
    "    j = 8-i\n",
    "    Part.insert(45, Part_2000[j])\n",
    "    \n",
    "Ano_electoral.insert(5,'2000')\n",
    "\n",
    "Part_Andalucia = [None]*len(Ano_electoral)\n",
    "for i in range(len(Ano_electoral)):\n",
    "    Part_Andalucia[i] = Part[8+9*i]"
   ]
  },
  {
   "cell_type": "code",
   "execution_count": 26,
   "metadata": {},
   "outputs": [
    {
     "data": {
      "image/png": "[encoded data removed]",
      "text/plain": [
       "<Figure size 720x432 with 1 Axes>"
      ]
     },
     "metadata": {},
     "output_type": "display_data"
    }
   ],
   "source": [
    "# Ahora se muestra en sendos gráficos de barras la evolución del voto a lo largo de las elecciones\n",
    "\n",
    "import matplotlib.pyplot as plt\n",
    "plt.style.use('ggplot')\n",
    "\n",
    "## En Andalucía\n",
    "\n",
    "Izquierda = [None]*len(Ano_electoral)\n",
    "Derecha = [None]*len(Ano_electoral)\n",
    "\n",
    "for i in range(len(Ano_electoral)):\n",
    "    Izquierda[i] = Porcentaje_Izquierda[8+9*i]\n",
    "    Derecha[i] = Porcentaje_Derecha[8+9*i]\n",
    "    \n",
    "x = np.arange(len(Ano_electoral))\n",
    "\n",
    "# Tamaño de cada barra\n",
    "\n",
    "width = 0.35\n",
    "\n",
    "fig, ax = plt.subplots(figsize = (10,6))\n",
    "\n",
    "# Barras para la izquierda\n",
    "\n",
    "bariz = ax.bar(x-width/2, Izquierda, width, color = 'red', label = 'Izquierda')\n",
    "barder = ax.bar(x+width/2, Derecha, width, color = 'blue', label = 'Derecha')\n",
    "Parti = ax.plot(x,Part_Andalucia, color = 'grey', label = 'Participación')\n",
    "\n",
    "ax.set_ylabel('Porcentaje')\n",
    "ax.set_title('Porcentaje de voto a Derecha e Izquierda política en Andalucía')\n",
    "ax.set_xticks(x)\n",
    "ax.set_xticklabels(Ano_electoral)\n",
    "ax.legend()\n",
    "\n",
    "def autolabel(bar):\n",
    "    for barra in bar:\n",
    "        height = barra.get_height()\n",
    "        ax.annotate('{}'.format(height),\n",
    "                    xy=(barra.get_x() + barra.get_width() / 2, height),\n",
    "                    xytext=(0, 3), \n",
    "                    textcoords=\"offset points\",\n",
    "                    ha='center', va='bottom')\n",
    "\n",
    "autolabel(bariz)\n",
    "autolabel(barder)\n",
    "\n",
    "fig.tight_layout()"
   ]
  },
  {
   "cell_type": "code",
   "execution_count": 27,
   "metadata": {},
   "outputs": [
    {
     "data": {
      "text/plain": [
       "<matplotlib.legend.Legend at 0x1d495aa2308>"
      ]
     },
     "execution_count": 27,
     "metadata": {},
     "output_type": "execute_result"
    },
    {
     "data": {
      "image/png": "[encoded data removed]",
      "text/plain": [
       "<Figure size 720x432 with 1 Axes>"
      ]
     },
     "metadata": {},
     "output_type": "display_data"
    }
   ],
   "source": [
    "Iz = np.array(Izquierda)\n",
    "Der = np.array(Derecha)\n",
    "dif = Iz-Der\n",
    "dif = dif.tolist()\n",
    "Diferencia =[ round(elem, 2) for elem in dif]\n",
    "\n",
    "fig, ax = plt.subplots(figsize = (10,6))\n",
    "\n",
    "ax.set_ylabel('Diferencia de Porcentajes')\n",
    "ax.set_title('Diferencia de los Porcentajes de la Izquierda frente a la Derecha')\n",
    "\n",
    "plt.bar(Ano_electoral[:10], Diferencia[:10], color = 'red', label = 'Ventaja de la Izquierda')\n",
    "plt.bar(Ano_electoral[-1:], Diferencia[-1:], color = 'blue', label = 'Ventaja de la Derecha')\n",
    "plt.legend()"
   ]
  },
  {
   "cell_type": "code",
   "execution_count": 70,
   "metadata": {},
   "outputs": [],
   "source": [
    "# Aquí se creará un dataset de resultados por año y provincia\n",
    "\n",
    "provincia = ['Almería', 'Cádiz', 'Córdoba', 'Granada', 'Huelva', 'Jaén', 'Málaga', 'Sevilla']\n",
    "\n",
    "I = np.zeros((len(Ano_electoral),len(provincia)))\n",
    "D = np.zeros((len(Ano_electoral),len(provincia)))\n",
    "Df1 = {}\n",
    "Df2 = {}\n",
    "for i in range(len(Ano_electoral)):\n",
    "    for j in range(len(provincia)):\n",
    "        I[i,j] = Porcentaje_Izquierda[j+9*i]\n",
    "        D[i,j] = Porcentaje_Derecha[j+9*i]\n",
    "    Df1[Ano_electoral[i]] = [I[i].tolist()]\n",
    "    Df2[Ano_electoral[i]] = [D[i].tolist()]\n",
    "    Df1[Ano_electoral[i]] = Df1[Ano_electoral[i]][0]\n",
    "    Df2[Ano_electoral[i]] = Df2[Ano_electoral[i]][0]\n",
    "\n",
    "df_iz = pd.DataFrame(Df1)\n",
    "df_iz.insert(0, 'Provincia',provincia)\n",
    "df_der = pd.DataFrame(Df2)\n",
    "df_der.insert(0, 'Provincia',provincia)"
   ]
  },
  {
   "cell_type": "code",
   "execution_count": 71,
   "metadata": {},
   "outputs": [],
   "source": [
    "# Preparación de los datos para crear el mapa animado\n",
    "\n",
    "df_iz = df_iz.groupby('Provincia').agg('sum')\n",
    "date = list(df_iz.columns)\n",
    "df_iz['Provincia'] = df_iz.index\n",
    "df_izq = pd.melt(df_iz, id_vars=['Provincia'], value_vars=date)\n",
    "\n",
    "df_der = df_der.groupby('Provincia').agg('sum')\n",
    "date = list(df_der.columns)\n",
    "df_der['Provincia'] = df_der.index\n",
    "df_de = pd.melt(df_der, id_vars=['Provincia'], value_vars=date)"
   ]
  },
  {
   "cell_type": "code",
   "execution_count": 72,
   "metadata": {},
   "outputs": [],
   "source": [
    "import json\n",
    "\n",
    "provincias = json.load(open('spain_provinces.geojson',encoding = 'utf8'))"
   ]
  },
  {
   "cell_type": "code",
   "execution_count": 73,
   "metadata": {},
   "outputs": [],
   "source": [
    "province_id = {}\n",
    "for feature in provincias['features']:\n",
    "    feature['id'] = feature['properties']['cod_prov']\n",
    "    for i in range(len(provincia)):\n",
    "        province_id[feature['properties']['name']] = feature['id']\n",
    "prov_id = {}\n",
    "for i in range(len(provincia)):\n",
    "    prov_id[provincia[i]] = province_id[provincia[i]]\n",
    "df_izq['id'] = df_izq['Provincia'].apply(lambda x: prov_id[x])\n",
    "df_de['id'] = df_de['Provincia'].apply(lambda x: prov_id[x])"
   ]
  },
  {
   "cell_type": "code",
   "execution_count": 74,
   "metadata": {},
   "outputs": [],
   "source": [
    "# Mapa con los resultados de la Izquierda por provincias en el periodo 1982-2018\n",
    "\n",
    "fig = px.choropleth_mapbox(df_izq, \n",
    "                    locations = 'id', \n",
    "                    geojson = provincias, \n",
    "                    color = 'value', \n",
    "                    hover_name = 'Provincia',\n",
    "                    animation_frame = 'variable',\n",
    "                    color_continuous_scale = 'reds',\n",
    "                    range_color = [35,80],\n",
    "                    mapbox_style = 'carto-positron',\n",
    "                    center = {'lat': 37.471325, 'lon': -4.581459},\n",
    "                    zoom = 6.5, opacity = 0.5)\n",
    "fig.show()"
   ]
  },
  {
   "cell_type": "code",
   "execution_count": 67,
   "metadata": {},
   "outputs": [],
   "source": [
    "# Mapa con los resultados de la Derecha por provincias en el periodo 1982-2018\n",
    "\n",
    "fig = px.choropleth_mapbox(df_de, \n",
    "                    locations = 'id', \n",
    "                    geojson = provincias, \n",
    "                    color = 'value', \n",
    "                    hover_name = 'Provincia',\n",
    "                    animation_frame = 'variable',\n",
    "                    color_continuous_scale = 'blues',\n",
    "                    range_color = [15,60],\n",
    "                    mapbox_style = 'carto-positron',\n",
    "                    center = {'lat': 37.471325, 'lon': -4.581459},\n",
    "                    zoom = 6.5, opacity =0.5)\n",
    "fig.show()"
   ]
  },
  {
   "cell_type": "code",
   "execution_count": 60,
   "metadata": {},
   "outputs": [],
   "source": [
    "# Se crea un dataframe con la diferencia de porcentajes de izquierda y derecha\n",
    "\n",
    "Iz = np.array(df_izq['value'])\n",
    "Der = np.array(df_de['value'])\n",
    "dif = Iz-Der\n",
    "dif.tolist()\n",
    "df_tot = df_izq\n",
    "df_tot['value'] = dif"
   ]
  },
  {
   "cell_type": "code",
   "execution_count": 66,
   "metadata": {},
   "outputs": [],
   "source": [
    "# Mapa con la diferencia de porcentajes por provincias\n",
    "\n",
    "fig = px.choropleth_mapbox(df_tot, \n",
    "                    locations = 'id', \n",
    "                    geojson = provincias, \n",
    "                    color = 'value', \n",
    "                    hover_name = 'Provincia',\n",
    "                    animation_frame = 'variable',\n",
    "                    color_continuous_scale = px.colors.diverging.balance,\n",
    "                    color_continuous_midpoint = 0,\n",
    "                    range_color = [-65,65],\n",
    "                    mapbox_style = 'carto-positron',\n",
    "                    center = {'lat': 37.471325, 'lon': -4.581459},\n",
    "                    zoom = 6.5, opacity =0.5)\n",
    "fig.show()"
   ]
  }
 ],
 "metadata": {
  "kernelspec": {
   "display_name": "Python 3",
   "language": "python",
   "name": "python3"
  },
  "language_info": {
   "codemirror_mode": {
    "name": "ipython",
    "version": 3
   },
   "file_extension": ".py",
   "mimetype": "text/x-python",
   "name": "python",
   "nbconvert_exporter": "python",
   "pygments_lexer": "ipython3",
   "version": "3.7.4"
  }
 },
 "nbformat": 4,
 "nbformat_minor": 4
}
